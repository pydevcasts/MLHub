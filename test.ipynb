{
 "cells": [
  {
   "cell_type": "code",
   "execution_count": 16,
   "id": "425eadf1",
   "metadata": {},
   "outputs": [
    {
     "data": {
      "text/plain": [
       "array([[1, 2],\n",
       "       [3, 4],\n",
       "       [6, 7],\n",
       "       [8, 9]])"
      ]
     },
     "execution_count": 16,
     "metadata": {},
     "output_type": "execute_result"
    }
   ],
   "source": [
    "import numpy as np\n",
    "\n",
    "# print(np.__version__)\n",
    "arr = [[1,2,3,4],[6,7,8,9]]\n",
    "b = 2\n",
    "\n",
    "# \n",
    "# np.array(arr) + np.array(b)\n",
    "# np.array(arr).shape\n",
    "# np.zeros((2,2))\n",
    "np.array(arr).reshape(4,2)"
   ]
  },
  {
   "cell_type": "code",
   "execution_count": 23,
   "id": "83d3a69c",
   "metadata": {},
   "outputs": [
    {
     "data": {
      "text/plain": [
       "[array([[2, 3]]), array([[8, 9]])]"
      ]
     },
     "execution_count": 23,
     "metadata": {},
     "output_type": "execute_result"
    }
   ],
   "source": [
    "a = np.array([[2,3],[8,9]])\n",
    "b = np.array([[22,33],[88,99]])\n",
    "np.vsplit(a, 2)\n"
   ]
  },
  {
   "cell_type": "code",
   "execution_count": 156,
   "id": "9eb0f525",
   "metadata": {},
   "outputs": [
    {
     "data": {
      "text/plain": [
       "array([[0.0407288 , 0.85546058, 0.70365786, 0.47417383, 0.09783416,\n",
       "        0.49161588],\n",
       "       [0.47347177, 0.17320187, 0.43385165, 0.39850473, 0.6158501 ,\n",
       "        0.63509365]])"
      ]
     },
     "execution_count": 156,
     "metadata": {},
     "output_type": "execute_result"
    }
   ],
   "source": [
    "# for i in np.nditer(a):\n",
    "#     print(i)\n",
    "# np.linalg.det(a)\n",
    "# np.random.rand(5)\n",
    "# np.datetime64(\"2025-12-12\")\n",
    "# c = [1,2,3]\n",
    "# type(np.asarray(c))\n",
    "# np.arange(1,10,2)\n",
    "# np.logspace(1,10,num=5)\n",
    "# x = np.array([[1,2,3],[4,5,6]])\n",
    "# np.mean(x)\n",
    "# np.std(x)\n",
    "# np.dot(a, b)\n",
    "# y = x.view()\n",
    "# x[0] = 111\n",
    "# x\n",
    "# y\n",
    "arr = [1,5,9,8,7,5]\n",
    "np.random.rand(2,6)\n",
    "# np.random.uniform(2,7)\n",
    "# np.random.normal(0,1,5)\n",
    "# np.random.seed(42)\n",
    "# x = np.random.choice(arr, size=3,replace=False)\n",
    "# np.random.uniform(1,101,size=5)\n"
   ]
  }
 ],
 "metadata": {
  "kernelspec": {
   "display_name": "Python (GAN)",
   "language": "python",
   "name": "gan"
  },
  "language_info": {
   "codemirror_mode": {
    "name": "ipython",
    "version": 3
   },
   "file_extension": ".py",
   "mimetype": "text/x-python",
   "name": "python",
   "nbconvert_exporter": "python",
   "pygments_lexer": "ipython3",
   "version": "3.12.9"
  }
 },
 "nbformat": 4,
 "nbformat_minor": 5
}
