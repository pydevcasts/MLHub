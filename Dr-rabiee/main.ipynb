{
 "cells": [
  {
   "cell_type": "code",
   "execution_count": null,
   "id": "cb28db31",
   "metadata": {},
   "outputs": [],
   "source": [
    "! pip install scipy"
   ]
  },
  {
   "cell_type": "code",
   "execution_count": 5,
   "id": "edf116e4",
   "metadata": {},
   "outputs": [
    {
     "name": "stdout",
     "output_type": "stream",
     "text": [
      "Definite integral value: 2.3333333333333335\n",
      "Estimated error: 2.590520390792032e-14\n"
     ]
    }
   ],
   "source": [
    "import numpy as np\n",
    "from scipy import integrate\n",
    "\n",
    "# Define the function to be integrated\n",
    "def f(x):\n",
    "    \"\"\"\n",
    "    Define the function f(x) = x^2.\n",
    "\n",
    "    Args:\n",
    "        x (float or numpy.ndarray): The input value or array of values.\n",
    "\n",
    "    Returns:\n",
    "        float or numpy.ndarray: The result of x^2.\n",
    "    \"\"\"\n",
    "    return x**2\n",
    "\n",
    "# Calculate the definite integral from 1 to 2\n",
    "result, error = integrate.quad(f, 1, 2)\n",
    "\n",
    "# Print the result\n",
    "print(\"Definite integral value:\", result)\n",
    "print(\"Estimated error:\", error)\n"
   ]
  },
  {
   "cell_type": "code",
   "execution_count": 2,
   "id": "258b7614",
   "metadata": {},
   "outputs": [
    {
     "name": "stdout",
     "output_type": "stream",
     "text": [
      "Manual integral value: 2.333333333333333\n"
     ]
    }
   ],
   "source": [
    "\n",
    "# Manual calculation of the definite integral\n",
    "def manual_integration(lower_limit, upper_limit):\n",
    "    \"\"\"\n",
    "    Calculate the definite integral of x^2 manually.\n",
    "\n",
    "    The antiderivative of x^2 is x^3 / 3.\n",
    "    This function calculates the definite integral using the limits of integration.\n",
    "\n",
    "    Args:\n",
    "        lower_limit (float): The lower limit of integration.\n",
    "        upper_limit (float): The upper limit of integration.\n",
    "\n",
    "    Returns:\n",
    "        float: The result of the definite integral.\n",
    "    \"\"\"\n",
    "    # The antiderivative of the function x^2 is x^3 / 3\n",
    "    upper_value = (upper_limit**3) / 3\n",
    "    lower_value = (lower_limit**3) / 3\n",
    "    return upper_value - lower_value\n",
    "\n",
    "manual_result = manual_integration(1, 2)\n",
    "\n",
    "print(\"Manual integral value:\", manual_result)\n"
   ]
  }
 ],
 "metadata": {
  "kernelspec": {
   "display_name": "Python (GAN)",
   "language": "python",
   "name": "gan"
  },
  "language_info": {
   "codemirror_mode": {
    "name": "ipython",
    "version": 3
   },
   "file_extension": ".py",
   "mimetype": "text/x-python",
   "name": "python",
   "nbconvert_exporter": "python",
   "pygments_lexer": "ipython3",
   "version": "3.12.9"
  }
 },
 "nbformat": 4,
 "nbformat_minor": 5
}
