{
 "cells": [
  {
   "cell_type": "markdown",
   "id": "d680e20d",
   "metadata": {},
   "source": [
    "البته! در زیر متن شما به صورت مرتب و سازمان‌یافته ارائه شده است:\n",
    "\n",
    "---\n",
    "\n",
    "### نمودار\n",
    "\n",
    "یک شکل مستطیلی در بالای تخته ترسیم شده است که احتمالاً نمایانگر یک تابع یا ناحیه تحت یک منحنی است.\n",
    "\n",
    "### پارامترها\n",
    "\n",
    "معادله‌ای تحت عنوان \n",
    "\n",
    "\\[\n",
    "\\int_{1}^{2} x^2 \\, dx = \\left( \\frac{x^3}{3} \\right) \\bigg|_{2}^{1}\n",
    "\\]\n",
    "\n",
    "نوشته شده است که نشان‌دهنده روش محاسبه انتگرال برای تابع \\( x^2 \\) از 1 تا 2 است.\n",
    "\n",
    "### محاسبات\n",
    "\n",
    "مراحل محاسبه مقدار انتگرال به شرح زیر است:\n",
    "\n",
    "1. **محاسبه حدود**: \n",
    "   \\[\n",
    "   \\left( \\frac{x^3}{3} \\right) \\bigg|_{2}^{1}\n",
    "   \\]\n",
    "\n",
    "2. **جایگزینی مقادیر**: \n",
    "   \\[\n",
    "   \\left( \\frac{2^3}{3} \\right) - \\left( \\frac{1^3}{3} \\right)\n",
    "   \\]\n",
    "\n",
    "3. **نتیجه‌گیری**: \n",
    "   مقدار انتگرال برابر با \\( 2.33 \\) به دست می‌آید.\n",
    "\n",
    "### حساب ساده\n",
    "\n",
    "در پایین سمت راست، یک محاسبه ساده نوشته شده است که:\n",
    "\n",
    "\\[\n",
    "1 \\times 4 = 4\n",
    "\\]\n",
    "\n",
    "### کد Python برای محاسبه انتگرال معین\n",
    "\n",
    "در زیر کد Python برای محاسبه انتگرال معین \\(\\int_{1}^{2} x^2 \\, dx\\) آمده است:\n",
    "\n",
    "```python\n",
    "import numpy as np\n",
    "from scipy import integrate\n",
    "\n",
    "# تعریف تابع\n",
    "def f(x):\n",
    "    return x**2\n",
    "\n",
    "# محاسبه انتگرال معین از ۱ تا ۲\n",
    "result, error = integrate.quad(f, 1, 2)\n",
    "\n",
    "# چاپ نتیجه\n",
    "print(\"مقدار انتگرال معین:\", result)\n",
    "print(\"خطای تخمینی:\", error)\n",
    "\n",
    "# راه حل دستی انتگرال معین\n",
    "def manual_integration(lower_limit, upper_limit):\n",
    "    # انتگرال تابع x^2 می‌شود x^3 / 3\n",
    "    upper_value = (upper_limit**3) / 3\n",
    "    lower_value = (lower_limit**3) / 3\n",
    "    return upper_value - lower_value\n",
    "\n",
    "manual_result = manual_integration(1, 2)\n",
    "\n",
    "print(\"مقدار انتگرال دستی:\", manual_result)\n",
    "```\n",
    "\n",
    "### توضیحات کد\n",
    "\n",
    "1. **تعریف تابع**: تابع \\( f(x) = x^2 \\) که می‌خواهیم انتگرال آن را حساب کنیم.\n",
    "2. **محاسبه با `scipy.integrate.quad`**: استفاده از تابع `quad` از کتابخانه `scipy.integrate` برای محاسبه انتگرال معین.\n",
    "3. **محاسبه دستی**: یک تابع به نام `manual_integration` تعریف شده که انتگرال را به صورت دستی محاسبه می‌کند (با استفاده از فرمول \\( \\frac{x^3}{3} \\)).\n",
    "4. **چاپ نتیجه**: چاپ مقدار انتگرال محاسبه شده.\n",
    "\n",
    "شما می‌توانید این کد را در یک محیط Python اجرا کنید تا نتیجه انتگرال را ببینید.\n",
    "\n",
    "--- \n",
    "\n",
    "اگر سوال یا نیاز به توضیحات بیشتری دارید، خوشحال می‌شوم که کمک کنم!"
   ]
  },
  {
   "cell_type": "code",
   "execution_count": null,
   "id": "cb28db31",
   "metadata": {},
   "outputs": [],
   "source": [
    "! pip install scipy"
   ]
  },
  {
   "cell_type": "code",
   "execution_count": null,
   "id": "686eda2e",
   "metadata": {},
   "outputs": [],
   "source": []
  },
  {
   "cell_type": "code",
   "execution_count": 5,
   "id": "edf116e4",
   "metadata": {},
   "outputs": [
    {
     "name": "stdout",
     "output_type": "stream",
     "text": [
      "Definite integral value: 2.3333333333333335\n",
      "Estimated error: 2.590520390792032e-14\n"
     ]
    }
   ],
   "source": [
    "import numpy as np\n",
    "from scipy import integrate\n",
    "\n",
    "# Define the function to be integrated\n",
    "def f(x):\n",
    "    \"\"\"\n",
    "    Define the function f(x) = x^2.\n",
    "\n",
    "    Args:\n",
    "        x (float or numpy.ndarray): The input value or array of values.\n",
    "\n",
    "    Returns:\n",
    "        float or numpy.ndarray: The result of x^2.\n",
    "    \"\"\"\n",
    "    return x**2\n",
    "\n",
    "# Calculate the definite integral from 1 to 2\n",
    "result, error = integrate.quad(f, 1, 2)\n",
    "\n",
    "# Print the result\n",
    "print(\"Definite integral value:\", result)\n",
    "print(\"Estimated error:\", error)\n"
   ]
  },
  {
   "cell_type": "code",
   "execution_count": 2,
   "id": "258b7614",
   "metadata": {},
   "outputs": [
    {
     "name": "stdout",
     "output_type": "stream",
     "text": [
      "Manual integral value: 2.333333333333333\n"
     ]
    }
   ],
   "source": [
    "\n",
    "# Manual calculation of the definite integral\n",
    "def manual_integration(lower_limit, upper_limit):\n",
    "    \"\"\"\n",
    "    Calculate the definite integral of x^2 manually.\n",
    "\n",
    "    The antiderivative of x^2 is x^3 / 3.\n",
    "    This function calculates the definite integral using the limits of integration.\n",
    "\n",
    "    Args:\n",
    "        lower_limit (float): The lower limit of integration.\n",
    "        upper_limit (float): The upper limit of integration.\n",
    "\n",
    "    Returns:\n",
    "        float: The result of the definite integral.\n",
    "    \"\"\"\n",
    "    # The antiderivative of the function x^2 is x^3 / 3\n",
    "    upper_value = (upper_limit**3) / 3\n",
    "    lower_value = (lower_limit**3) / 3\n",
    "    return upper_value - lower_value\n",
    "\n",
    "manual_result = manual_integration(1, 2)\n",
    "\n",
    "print(\"Manual integral value:\", manual_result)\n"
   ]
  }
 ],
 "metadata": {
  "kernelspec": {
   "display_name": "Python (GAN)",
   "language": "python",
   "name": "gan"
  },
  "language_info": {
   "codemirror_mode": {
    "name": "ipython",
    "version": 3
   },
   "file_extension": ".py",
   "mimetype": "text/x-python",
   "name": "python",
   "nbconvert_exporter": "python",
   "pygments_lexer": "ipython3",
   "version": "3.12.9"
  }
 },
 "nbformat": 4,
 "nbformat_minor": 5
}
