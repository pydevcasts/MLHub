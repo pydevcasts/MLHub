{
 "cells": [
  {
   "cell_type": "markdown",
   "id": "1c075aed",
   "metadata": {},
   "source": [
    "![My Image](../images/integrate.png)"
   ]
  },
  {
   "cell_type": "markdown",
   "id": "0df3ed7e",
   "metadata": {},
   "source": [
    "![My Image](../images/rabei.png)\n"
   ]
  }
 ],
 "metadata": {
  "language_info": {
   "name": "python"
  }
 },
 "nbformat": 4,
 "nbformat_minor": 5
}
